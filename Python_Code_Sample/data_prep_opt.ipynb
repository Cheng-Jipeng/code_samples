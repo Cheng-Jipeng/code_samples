{
 "cells": [
  {
   "cell_type": "code",
   "execution_count": 1,
   "metadata": {},
   "outputs": [
    {
     "name": "stdout",
     "output_type": "stream",
     "text": [
      "提示：当前环境 pandas 版本高于 0.25，get_price 与 get_fundamentals_continuously 接口 panel 参数将固定为 False\n",
      "注意：0.25 以上版本 pandas 不支持 panel，如使用该数据结构和相关函数请注意修改\n",
      "auth success \n"
     ]
    }
   ],
   "source": [
    "from wencailib.data.jqsdk import jq_auth\n",
    "jq_auth()"
   ]
  },
  {
   "cell_type": "code",
   "execution_count": 2,
   "metadata": {},
   "outputs": [],
   "source": [
    "from jqdatasdk import *\n",
    "import numpy as np\n",
    "import pandas as pd\n",
    "import matplotlib as mpl\n",
    "import matplotlib.pyplot as plt\n",
    "mpl.rcParams['font.family'] = 'serif'\n",
    "import datetime as dt\n",
    "from tqdm import tqdm"
   ]
  },
  {
   "cell_type": "code",
   "execution_count": 3,
   "metadata": {},
   "outputs": [],
   "source": [
    "def str2date(date):\n",
    "    dt_datetime = datetime.datetime.strptime(date, '%Y-%m-%d')\n",
    "    dt_date = datetime.datetime.date(dt_datetime)\n",
    "    return dt_date"
   ]
  },
  {
   "cell_type": "code",
   "execution_count": null,
   "metadata": {},
   "outputs": [],
   "source": [
    "# Get preopen data ### Use jqdata !!!\n",
    "q=query(opt.OPT_DAILY_PREOPEN).filter(\n",
    "    opt.OPT_DAILY_PREOPEN.underlying_symbol == '510050.XSHG',\n",
    "    opt.OPT_DAILY_PREOPEN.date > '2020-01-01')\n",
    "\n",
    "df = opt.run_query(q)\n",
    "\n",
    "q2=query(opt.OPT_DAILY_PREOPEN).filter(\n",
    "    opt.OPT_DAILY_PREOPEN.underlying_symbol == '510050.XSHG',\n",
    "    opt.OPT_DAILY_PREOPEN.date > '2020-02-20')\n",
    "df2 = opt.run_query(q2)\n",
    "\n",
    "q3=query(opt.OPT_DAILY_PREOPEN).filter(\n",
    "    opt.OPT_DAILY_PREOPEN.underlying_symbol == '510050.XSHG',\n",
    "    opt.OPT_DAILY_PREOPEN.date > '2020-04-01')\n",
    "df3 = opt.run_query(q3)\n",
    "\n",
    "q4=query(opt.OPT_DAILY_PREOPEN).filter(\n",
    "    opt.OPT_DAILY_PREOPEN.underlying_symbol == '510050.XSHG',\n",
    "    opt.OPT_DAILY_PREOPEN.date > '2020-05-24')\n",
    "df4 = opt.run_query(q4)\n",
    "\n",
    "q5=query(opt.OPT_DAILY_PREOPEN).filter(\n",
    "    opt.OPT_DAILY_PREOPEN.underlying_symbol == '510050.XSHG',\n",
    "    opt.OPT_DAILY_PREOPEN.date > '2020-07-15')\n",
    "df5 = opt.run_query(q5)\n",
    "\n",
    "q6=query(opt.OPT_DAILY_PREOPEN).filter(\n",
    "    opt.OPT_DAILY_PREOPEN.underlying_symbol == '510050.XSHG',\n",
    "    opt.OPT_DAILY_PREOPEN.date > '2020-09-03')\n",
    "df6 = opt.run_query(q6)\n",
    "\n",
    "q7=query(opt.OPT_DAILY_PREOPEN).filter(\n",
    "    opt.OPT_DAILY_PREOPEN.underlying_symbol == '510050.XSHG',\n",
    "    opt.OPT_DAILY_PREOPEN.date > '2020-11-16')\n",
    "df7 = opt.run_query(q7)\n",
    "\n",
    "q8=query(opt.OPT_DAILY_PREOPEN).filter(\n",
    "    opt.OPT_DAILY_PREOPEN.underlying_symbol == '510050.XSHG',\n",
    "    opt.OPT_DAILY_PREOPEN.date > '2020-12-29')\n",
    "df8 = opt.run_query(q8)\n",
    "\n",
    "q9 = query(opt.OPT_DAILY_PREOPEN).filter(\n",
    "    opt.OPT_DAILY_PREOPEN.underlying_symbol == '510050.XSHG',\n",
    "    opt.OPT_DAILY_PREOPEN.date > '2021-2-18')\n",
    "df9 = opt.run_query(q9)\n",
    "\n",
    "q10 = query(opt.OPT_DAILY_PREOPEN).filter(\n",
    "    opt.OPT_DAILY_PREOPEN.underlying_symbol == '510050.XSHG',\n",
    "    opt.OPT_DAILY_PREOPEN.date > '2021-4-08')\n",
    "df10 = opt.run_query(q10)"
   ]
  },
  {
   "cell_type": "code",
   "execution_count": null,
   "metadata": {},
   "outputs": [],
   "source": [
    "# Build up the dataset for further use \n",
    "\n",
    "opt_info = df.set_index(['date', 'code']).copy()\n",
    "\n",
    "opt_info2 = df2.set_index(['date', 'code']).copy()\n",
    "\n",
    "opt_info3 = df3.set_index(['date', 'code']).copy()\n",
    "\n",
    "opt_info4 = df4.set_index(['date', 'code']).copy()\n",
    "\n",
    "opt_info5 = df5.set_index(['date', 'code']).copy()\n",
    "\n",
    "opt_info6 = df6.set_index(['date', 'code']).copy()\n",
    "\n",
    "opt_info7 = df7.set_index(['date', 'code']).copy()\n",
    "\n",
    "opt_info8 = df8.set_index(['date', 'code']).copy()\n",
    "\n",
    "opt_info9 = df9.set_index(['date', 'code']).copy()\n",
    "\n",
    "opt_info10 = df10.set_index(['date', 'code']).copy()\n",
    "\n",
    "for i in range(2, 11):\n",
    "    opt_info = opt_info.append(eval('opt_info' + str(i)))\n",
    "\n",
    "opt_info.to_csv('/home/cjp/Option_Hedging/daily_option_preopen.csv', sep=',', index=True, header=True)"
   ]
  }
 ],
 "metadata": {
  "kernelspec": {
   "display_name": "Python 3",
   "language": "python",
   "name": "python3"
  },
  "language_info": {
   "codemirror_mode": {
    "name": "ipython",
    "version": 3
   },
   "file_extension": ".py",
   "mimetype": "text/x-python",
   "name": "python",
   "nbconvert_exporter": "python",
   "pygments_lexer": "ipython3",
   "version": "3.8.5"
  }
 },
 "nbformat": 4,
 "nbformat_minor": 5
}
